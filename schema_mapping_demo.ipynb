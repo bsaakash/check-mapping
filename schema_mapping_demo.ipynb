{
 "cells": [
  {
   "cell_type": "code",
   "execution_count": 1,
   "id": "6c45f9ec",
   "metadata": {},
   "outputs": [],
   "source": [
    "import json\n",
    "import time\n",
    "from pathlib import Path\n",
    "from schema_mapping_validator import process_combinations\n",
    "from fragility_mapping_checker import count_model_ids, check_fragility_mapping"
   ]
  },
  {
   "cell_type": "markdown",
   "id": "96b1d028",
   "metadata": {},
   "source": [
    "# Define paths to required files"
   ]
  },
  {
   "cell_type": "markdown",
   "id": "abbef0fe",
   "metadata": {},
   "source": [
    "This step defines the necessary input files for the schema mapping validation process and creates an output directory\n",
    "where all results will be saved. Ensure that the paths to the input files (mapping script, JSON schema, and fragility\n",
    "CSV) are correctly set before running the notebook."
   ]
  },
  {
   "cell_type": "code",
   "execution_count": 2,
   "id": "02623ecb",
   "metadata": {},
   "outputs": [],
   "source": [
    "mapping_script = \"mapping_modules/HAZUS_EQ/mapping_IM.py\"\n",
    "mapping_function = \"auto_populate\"\n",
    "json_schema_file = \"mapping_modules/HAZUS_EQ/input_schema.json\"\n",
    "fragility_csv = \"fragility_database/fragility.csv\"\n",
    "\n",
    "output_dir = Path(\"output_files\")"
   ]
  },
  {
   "cell_type": "code",
   "execution_count": 3,
   "id": "6797a146",
   "metadata": {},
   "outputs": [],
   "source": [
    "output_dir.mkdir(exist_ok=True) # Creates the directory to store output files"
   ]
  },
  {
   "cell_type": "markdown",
   "id": "7b82f8cb",
   "metadata": {},
   "source": [
    "# Process combinations and validate results"
   ]
  },
  {
   "cell_type": "markdown",
   "id": "cb5751df",
   "metadata": {},
   "source": [
    "This step uses the `process_combinations` function from the `schema_mapping_validator` module to generate and validate\n",
    "combinations derived from the provided JSON schema. Valid and invalid results are saved in the output directory."
   ]
  },
  {
   "cell_type": "code",
   "execution_count": 4,
   "id": "5b0093df",
   "metadata": {},
   "outputs": [
    {
     "name": "stdout",
     "output_type": "stream",
     "text": [
      "\n",
      "Processing combinations and validating results...\n",
      "Summary:\n",
      "Total combinations: 21504\n",
      "Valid combinations: 13440\n",
      "Invalid combinations: 8064\n",
      "Step completed in 37.31 seconds\n"
     ]
    }
   ],
   "source": [
    "start_time = time.time()\n",
    "print(\"\\nProcessing combinations and validating results...\")\n",
    "results = process_combinations(\n",
    "    mapping_script, mapping_function, json_schema_file, use_multiprocessing=True\n",
    ")\n",
    "\n",
    "valid_results_file = output_dir / \"valid_combinations.json\"\n",
    "invalid_results_file = output_dir / \"invalid_combinations.json\"\n",
    "\n",
    "with open(valid_results_file, \"w\") as valid_file:\n",
    "    json.dump(results[\"valid\"], valid_file, indent=4)\n",
    "\n",
    "with open(invalid_results_file, \"w\") as invalid_file:\n",
    "    json.dump(results[\"invalid\"], invalid_file, indent=4)\n",
    "\n",
    "print(\"Summary:\")\n",
    "print(f\"Total combinations: {len(results['valid']) + len(results['invalid'])}\")\n",
    "print(f\"Valid combinations: {len(results['valid'])}\")\n",
    "print(f\"Invalid combinations: {len(results['invalid'])}\")\n",
    "print(f\"Step completed in {time.time() - start_time:.2f} seconds\")"
   ]
  },
  {
   "cell_type": "markdown",
   "id": "ee28d9e4",
   "metadata": {},
   "source": [
    "# Count Model IDs from Valid Results"
   ]
  },
  {
   "cell_type": "markdown",
   "id": "c2b46064",
   "metadata": {},
   "source": [
    "This step extracts unique model IDs from the valid results using the `count_model_ids` function from the\n",
    "`fragility_mapping_checker` module. A summary of these counts is saved in the output directory."
   ]
  },
  {
   "cell_type": "code",
   "execution_count": 5,
   "id": "9d7d8398",
   "metadata": {},
   "outputs": [
    {
     "name": "stdout",
     "output_type": "stream",
     "text": [
      "\n",
      "Counting model IDs from valid results...\n",
      "Total unique model IDs: 120\n",
      "Step completed in 0.01 seconds\n"
     ]
    }
   ],
   "source": [
    "start_time = time.time()\n",
    "print(\"\\nCounting model IDs from valid results...\")\n",
    "model_id_counts_file = output_dir / \"model_id_counts.json\"\n",
    "model_id_counts = count_model_ids(results[\"valid\"], model_id_counts_file)\n",
    "\n",
    "print(f\"Total unique model IDs: {len(model_id_counts)}\")\n",
    "print(f\"Step completed in {time.time() - start_time:.2f} seconds\")"
   ]
  },
  {
   "cell_type": "markdown",
   "id": "f88b0143",
   "metadata": {},
   "source": [
    "# Check Fragility Mapping"
   ]
  },
  {
   "cell_type": "markdown",
   "id": "2ac2e541",
   "metadata": {},
   "source": [
    "This step verifies whether the fragility model IDs in the provided database have been mapped to by the valid combinations.\n",
    "The results are saved in the output directory, and a summary is displayed, including a list of unmapped IDs."
   ]
  },
  {
   "cell_type": "code",
   "execution_count": 6,
   "id": "98150fda",
   "metadata": {},
   "outputs": [
    {
     "name": "stdout",
     "output_type": "stream",
     "text": [
      "\n",
      "Checking fragility mapping...\n",
      "\n",
      "Fragility Mapping Summary:\n",
      "Total # fragility model IDs: 132\n",
      "# mapped fragility model IDs: 108\n",
      "# unmapped fragility model IDs: 24\n",
      "\n",
      "Unmapped fragility model IDs:\n",
      "LF.W1.HC\n",
      "LF.W1.MC\n",
      "LF.W1.LC\n",
      "LF.W1.PC\n",
      "LF.W2.HC\n",
      "LF.W2.MC\n",
      "LF.W2.LC\n",
      "LF.W2.PC\n",
      "LF.S3.HC\n",
      "LF.S3.MC\n",
      "LF.S3.LC\n",
      "LF.S3.PC\n",
      "LF.PC1.HC\n",
      "LF.PC1.MC\n",
      "LF.PC1.LC\n",
      "LF.PC1.PC\n",
      "LF.MH.HC\n",
      "LF.MH.MC\n",
      "LF.MH.LC\n",
      "LF.MH.PC\n",
      "GF.H.S\n",
      "GF.H.D\n",
      "GF.V.S\n",
      "GF.V.D\n",
      "Step completed in 0.01 seconds\n"
     ]
    }
   ],
   "source": [
    "start_time = time.time()\n",
    "print(\"\\nChecking fragility mapping...\")\n",
    "fragility_mapping_output_file = output_dir / \"fragility_mapping_summary.json\"\n",
    "fragility_summary = check_fragility_mapping(results[\"valid\"], fragility_csv, fragility_mapping_output_file)\n",
    "\n",
    "print(\"\\nFragility Mapping Summary:\")\n",
    "print(f\"Total # fragility model IDs: {fragility_summary['total_fragility_ids']}\")\n",
    "print(f\"# mapped fragility model IDs: {fragility_summary['mapped']}\")\n",
    "print(f\"# unmapped fragility model IDs: {fragility_summary['unmapped']}\")\n",
    "print(\"\\nUnmapped fragility model IDs:\")\n",
    "for unmapped_id in fragility_summary[\"unmapped_ids\"]:\n",
    "    print(unmapped_id)\n",
    "print(f\"Step completed in {time.time() - start_time:.2f} seconds\")"
   ]
  },
  {
   "cell_type": "code",
   "execution_count": 7,
   "id": "a69ee3c6",
   "metadata": {},
   "outputs": [
    {
     "name": "stdout",
     "output_type": "stream",
     "text": [
      "\n",
      "Valid results not mapped to a fragility model ID:\n",
      "LF.PC1.L.MC\n",
      "LF.PC1.H.MC\n",
      "LF.PC1.L.LC\n",
      "LF.PC1.M.LC\n",
      "LF.PC1.M.HC\n",
      "LF.PC1.H.HC\n",
      "LF.PC1.M.MC\n",
      "LF.PC1.H.PC\n",
      "LF.PC1.L.HC\n",
      "LF.PC1.H.LC\n",
      "LF.PC1.L.PC\n",
      "LF.PC1.M.PC\n"
     ]
    }
   ],
   "source": [
    "# Display valid combinations without a fragility model ID\n",
    "print(\"\\nValid results not mapped to a fragility model ID:\")\n",
    "unmapped_model_ids = set(model_id_counts.keys()) - set(fragility_summary[\"mapped_ids\"])\n",
    "unmapped_model_ids_file = output_dir / \"unmapped_model_ids.json\"\n",
    "\n",
    "with open(unmapped_model_ids_file, \"w\") as unmapped_file:\n",
    "    json.dump(list(unmapped_model_ids), unmapped_file, indent=4)\n",
    "\n",
    "for model_id in unmapped_model_ids:\n",
    "    print(model_id)"
   ]
  },
  {
   "cell_type": "code",
   "execution_count": null,
   "id": "8515b52e",
   "metadata": {},
   "outputs": [],
   "source": []
  }
 ],
 "metadata": {
  "kernelspec": {
   "display_name": "Python 3 (ipykernel)",
   "language": "python",
   "name": "python3"
  },
  "language_info": {
   "codemirror_mode": {
    "name": "ipython",
    "version": 3
   },
   "file_extension": ".py",
   "mimetype": "text/x-python",
   "name": "python",
   "nbconvert_exporter": "python",
   "pygments_lexer": "ipython3",
   "version": "3.9.13"
  }
 },
 "nbformat": 4,
 "nbformat_minor": 5
}

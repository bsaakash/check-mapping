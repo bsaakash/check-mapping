{
 "cells": [
  {
   "cell_type": "code",
   "execution_count": 1,
   "id": "6c45f9ec",
   "metadata": {},
   "outputs": [],
   "source": [
    "import json\n",
    "import time\n",
    "from pathlib import Path\n",
    "from schema_mapping_validator import process_combinations\n",
    "from fragility_mapping_checker import count_model_ids, check_fragility_mapping"
   ]
  },
  {
   "cell_type": "markdown",
   "id": "96b1d028",
   "metadata": {},
   "source": [
    "# Define paths to required files"
   ]
  },
  {
   "cell_type": "markdown",
   "id": "abbef0fe",
   "metadata": {},
   "source": [
    "This step defines the necessary input files for the schema mapping validation process and creates an output directory\n",
    "where all results will be saved. Ensure that the paths to the input files (mapping script, JSON schema, and fragility\n",
    "CSV) are correctly set before running the notebook."
   ]
  },
  {
   "cell_type": "code",
   "execution_count": 2,
   "id": "02623ecb",
   "metadata": {},
   "outputs": [],
   "source": [
    "mapping_script = \"mapping_modules/HAZUS_EQ/mapping_IM.py\"\n",
    "mapping_function = \"auto_populate\"\n",
    "json_schema_file = \"mapping_modules/HAZUS_EQ/input_schema.json\"\n",
    "fragility_csv = \"fragility_database/fragility.csv\"\n",
    "\n",
    "output_dir = Path(\"output_files\")"
   ]
  },
  {
   "cell_type": "code",
   "execution_count": 3,
   "id": "6797a146",
   "metadata": {},
   "outputs": [],
   "source": [
    "output_dir.mkdir(exist_ok=True)  # Creates the directory to store output files"
   ]
  },
  {
   "cell_type": "markdown",
   "id": "17afc3f6",
   "metadata": {},
   "source": [
    "# View the schema"
   ]
  },
  {
   "cell_type": "code",
   "execution_count": 4,
   "id": "63f51d62",
   "metadata": {},
   "outputs": [
    {
     "name": "stdout",
     "output_type": "stream",
     "text": [
      "{\n",
      "    \"$schema\": \"http://json-schema.org/draft-07/schema#\",\n",
      "    \"type\": \"object\",\n",
      "    \"properties\": {\n",
      "        \"BuildingType\": {\n",
      "            \"type\": \"string\",\n",
      "            \"enum\": [\n",
      "                \"W1\",\n",
      "                \"W2\",\n",
      "                \"S1\",\n",
      "                \"S2\",\n",
      "                \"S3\",\n",
      "                \"S4\",\n",
      "                \"S5\",\n",
      "                \"C1\",\n",
      "                \"C2\",\n",
      "                \"C3\",\n",
      "                \"PC1\",\n",
      "                \"PC2\",\n",
      "                \"RM1\",\n",
      "                \"RM2\",\n",
      "                \"URM\",\n",
      "                \"MH\"\n",
      "            ]\n",
      "        },\n",
      "        \"DesignLevel\": {\n",
      "            \"type\": \"string\",\n",
      "            \"enum\": [\n",
      "                \"Pre-Code\",\n",
      "                \"Low-Code\",\n",
      "                \"Moderate-Code\",\n",
      "                \"High-Code\"\n",
      "            ]\n",
      "        },\n",
      "        \"HeightClass\": {\n",
      "            \"type\": \"string\",\n",
      "            \"enum\": [\n",
      "                \"Low-Rise\",\n",
      "                \"Mid-Rise\",\n",
      "                \"High-Rise\"\n",
      "            ]\n",
      "        },\n",
      "        \"GroundFailure\": {\n",
      "            \"type\": \"boolean\"\n",
      "        },\n",
      "        \"FoundationType\": {\n",
      "            \"type\": \"string\",\n",
      "            \"enum\": [\n",
      "                \"Shallow\",\n",
      "                \"Deep\"\n",
      "            ]\n",
      "        },\n",
      "        \"OccupancyClass\": {\n",
      "            \"type\": \"string\",\n",
      "            \"enum\": [\n",
      "                \"RES1\",\n",
      "                \"RES2\",\n",
      "                \"RES3\",\n",
      "                \"RES4\",\n",
      "                \"RES5\",\n",
      "                \"RES6\",\n",
      "                \"COM1\",\n",
      "                \"COM2\",\n",
      "                \"COM3\",\n",
      "                \"COM4\",\n",
      "                \"COM5\",\n",
      "                \"COM6\",\n",
      "                \"COM7\",\n",
      "                \"COM8\",\n",
      "                \"COM9\",\n",
      "                \"COM10\",\n",
      "                \"IND1\",\n",
      "                \"IND2\",\n",
      "                \"IND3\",\n",
      "                \"IND4\",\n",
      "                \"IND5\",\n",
      "                \"IND6\",\n",
      "                \"AGR1\",\n",
      "                \"REL1\",\n",
      "                \"GOV1\",\n",
      "                \"GOV2\",\n",
      "                \"EDU1\",\n",
      "                \"EDU2\"\n",
      "            ]\n",
      "        }\n",
      "    },\n",
      "    \"required\": [\n",
      "        \"BuildingType\",\n",
      "        \"DesignLevel\"\n",
      "    ],\n",
      "    \"allOf\": [\n",
      "        {\n",
      "            \"if\": {\n",
      "                \"properties\": {\n",
      "                    \"BuildingType\": {\n",
      "                        \"enum\": [\n",
      "                            \"S1\",\n",
      "                            \"S2\",\n",
      "                            \"S4\",\n",
      "                            \"S5\",\n",
      "                            \"C1\",\n",
      "                            \"C2\",\n",
      "                            \"C3\",\n",
      "                            \"PC2\",\n",
      "                            \"RM1\",\n",
      "                            \"RM2\",\n",
      "                            \"URM\"\n",
      "                        ]\n",
      "                    }\n",
      "                }\n",
      "            },\n",
      "            \"then\": {\n",
      "                \"required\": [\n",
      "                    \"HeightClass\"\n",
      "                ]\n",
      "            },\n",
      "            \"else\": {\n",
      "                \"allOf\": [\n",
      "                    {\n",
      "                        \"not\": {\n",
      "                            \"required\": [\n",
      "                                \"HeightClass\"\n",
      "                            ]\n",
      "                        }\n",
      "                    },\n",
      "                    {\n",
      "                        \"properties\": {\n",
      "                            \"HeightClass\": {\n",
      "                                \"type\": \"null\"\n",
      "                            }\n",
      "                        }\n",
      "                    }\n",
      "                ]\n",
      "            }\n",
      "        },\n",
      "        {\n",
      "            \"if\": {\n",
      "                \"properties\": {\n",
      "                    \"BuildingType\": {\n",
      "                        \"enum\": [\n",
      "                            \"RM1\",\n",
      "                            \"URM\"\n",
      "                        ]\n",
      "                    }\n",
      "                }\n",
      "            },\n",
      "            \"then\": {\n",
      "                \"properties\": {\n",
      "                    \"HeightClass\": {\n",
      "                        \"enum\": [\n",
      "                            \"Low-Rise\",\n",
      "                            \"Mid-Rise\"\n",
      "                        ]\n",
      "                    }\n",
      "                }\n",
      "            }\n",
      "        },\n",
      "        {\n",
      "            \"if\": {\n",
      "                \"properties\": {\n",
      "                    \"BuildingType\": {\n",
      "                        \"enum\": [\n",
      "                            \"S5\",\n",
      "                            \"C3\",\n",
      "                            \"URM\"\n",
      "                        ]\n",
      "                    }\n",
      "                }\n",
      "            },\n",
      "            \"then\": {\n",
      "                \"properties\": {\n",
      "                    \"DesignLevel\": {\n",
      "                        \"enum\": [\n",
      "                            \"Pre-Code\",\n",
      "                            \"Low-Code\"\n",
      "                        ]\n",
      "                    }\n",
      "                }\n",
      "            }\n",
      "        },\n",
      "        {\n",
      "            \"if\": {\n",
      "                \"properties\": {\n",
      "                    \"GroundFailure\": {\n",
      "                        \"const\": true\n",
      "                    }\n",
      "                }\n",
      "            },\n",
      "            \"then\": {\n",
      "                \"required\": [\n",
      "                    \"FoundationType\"\n",
      "                ]\n",
      "            }\n",
      "        }\n",
      "    ]\n",
      "}\n"
     ]
    }
   ],
   "source": [
    "# Load the schema from the file\n",
    "with open(json_schema_file, \"r\") as file:\n",
    "    input_schema = json.load(file)\n",
    "\n",
    "# Print the schema as pretty JSON\n",
    "print(json.dumps(input_schema, indent=4))"
   ]
  },
  {
   "cell_type": "markdown",
   "id": "7b82f8cb",
   "metadata": {},
   "source": [
    "# Process combinations and validate results"
   ]
  },
  {
   "cell_type": "markdown",
   "id": "cb5751df",
   "metadata": {},
   "source": [
    "The schema provides a detailed list of attributes along with the possible values each attribute can assume. It also defines the rules for distinguishing valid and invalid combinations of these values, ensuring compatibility with the specific requirements of the fragility database for which the mapping function is designed. \n",
    "\n",
    "This step employs the `process_combinations` function from the `schema_mapping_validator` module to systematically generate all potential combinations of attribute values as defined by the schema. Each combination is validated according to the schema rules, and the mapping function is executed for combinations that meet the validation criteria.\n",
    "\n",
    "The outcomes are classified into valid and invalid combinations, with the corresponding inputs and outputs saved in the output directory for further analysis."
   ]
  },
  {
   "cell_type": "code",
   "execution_count": 5,
   "id": "5b0093df",
   "metadata": {},
   "outputs": [
    {
     "name": "stdout",
     "output_type": "stream",
     "text": [
      "\n",
      "Processing combinations and validating results...\n",
      "Summary:\n",
      "Total combinations: 66816\n",
      "Valid combinations: 25088\n",
      "Invalid combinations: 41728\n",
      "Step completed in 78.46 seconds\n"
     ]
    }
   ],
   "source": [
    "start_time = time.time()\n",
    "print(\"\\nProcessing combinations and validating results...\")\n",
    "results = process_combinations(\n",
    "    mapping_script, mapping_function, json_schema_file, parallel=True\n",
    ")\n",
    "\n",
    "valid_results_file = output_dir / \"valid_combinations.json\"\n",
    "invalid_results_file = output_dir / \"invalid_combinations.json\"\n",
    "\n",
    "with open(valid_results_file, \"w\") as valid_file:\n",
    "    json.dump(results[\"valid\"], valid_file, indent=4)\n",
    "\n",
    "with open(invalid_results_file, \"w\") as invalid_file:\n",
    "    json.dump(results[\"invalid\"], invalid_file, indent=4)\n",
    "\n",
    "print(\"Summary:\")\n",
    "print(f\"Total combinations: {len(results['valid']) + len(results['invalid'])}\")\n",
    "print(f\"Valid combinations: {len(results['valid'])}\")\n",
    "print(f\"Invalid combinations: {len(results['invalid'])}\")\n",
    "print(f\"Step completed in {time.time() - start_time:.2f} seconds\")"
   ]
  },
  {
   "cell_type": "markdown",
   "id": "ee28d9e4",
   "metadata": {},
   "source": [
    "# Count Model IDs from Valid Results"
   ]
  },
  {
   "cell_type": "markdown",
   "id": "c2b46064",
   "metadata": {},
   "source": [
    "This step identifies unique model IDs generated by the mapping function, using the results from valid input combinations. The `count_model_ids` function from the `fragility_mapping_checker` module is used for this purpose. A summary of the model ID counts is then saved in the output directory for further analysis."
   ]
  },
  {
   "cell_type": "code",
   "execution_count": 6,
   "id": "9d7d8398",
   "metadata": {},
   "outputs": [
    {
     "name": "stdout",
     "output_type": "stream",
     "text": [
      "\n",
      "Counting model IDs from valid results...\n",
      "Total unique model IDs: 132\n",
      "Step completed in 0.01 seconds\n"
     ]
    }
   ],
   "source": [
    "start_time = time.time()\n",
    "print(\"\\nCounting model IDs from valid results...\")\n",
    "model_id_counts_file = output_dir / \"model_id_counts.json\"\n",
    "model_id_counts = count_model_ids(results[\"valid\"], model_id_counts_file)\n",
    "\n",
    "print(f\"Total unique model IDs: {len(model_id_counts)}\")\n",
    "print(f\"Step completed in {time.time() - start_time:.2f} seconds\")"
   ]
  },
  {
   "cell_type": "markdown",
   "id": "f88b0143",
   "metadata": {},
   "source": [
    "# Check Fragility Mapping"
   ]
  },
  {
   "cell_type": "markdown",
   "id": "2ac2e541",
   "metadata": {},
   "source": [
    "This step verifies that all fragility model IDs in the provided database are successfully mapped by the valid combinations, using the `check_fragility_mapping` function from the `fragility_mapping_checker` module. The verification results are saved in the output directory, and a summary is displayed, emphasizing any unmapped IDs that require further attention."
   ]
  },
  {
   "cell_type": "code",
   "execution_count": 7,
   "id": "98150fda",
   "metadata": {},
   "outputs": [
    {
     "name": "stdout",
     "output_type": "stream",
     "text": [
      "\n",
      "Checking fragility mapping...\n",
      "\n",
      "Fragility Mapping Summary:\n",
      "Total # fragility model IDs: 132\n",
      "# fragility model IDs mapped into: 132\n",
      "# fragility model IDs not mapped into: 0\n",
      "\n",
      "List of fragility model IDs not mapped into:\n",
      "Step completed in 0.01 seconds\n"
     ]
    }
   ],
   "source": [
    "start_time = time.time()\n",
    "print(\"\\nChecking fragility mapping...\")\n",
    "fragility_mapping_output_file = output_dir / \"fragility_mapping_summary.json\"\n",
    "fragility_summary = check_fragility_mapping(\n",
    "    results[\"valid\"], fragility_csv, fragility_mapping_output_file\n",
    ")\n",
    "\n",
    "print(\"\\nFragility Mapping Summary:\")\n",
    "print(f\"Total # fragility model IDs: {fragility_summary['total_fragility_ids']}\")\n",
    "print(f\"# fragility model IDs mapped into: {fragility_summary['mapped']}\")\n",
    "print(f\"# fragility model IDs not mapped into: {fragility_summary['unmapped']}\")\n",
    "print(\"\\nList of fragility model IDs not mapped into:\")\n",
    "for unmapped_id in fragility_summary[\"unmapped_ids\"]:\n",
    "    print(unmapped_id)\n",
    "print(f\"Step completed in {time.time() - start_time:.2f} seconds\")"
   ]
  },
  {
   "cell_type": "code",
   "execution_count": 8,
   "id": "a69ee3c6",
   "metadata": {},
   "outputs": [
    {
     "name": "stdout",
     "output_type": "stream",
     "text": [
      "\n",
      "0 valid results not mapped to a fragility model ID:\n"
     ]
    }
   ],
   "source": [
    "# Display valid combinations without a fragility model ID\n",
    "unmapped_model_ids = set(model_id_counts.keys()) - set(fragility_summary[\"mapped_ids\"])\n",
    "unmapped_model_ids_file = output_dir / \"unmapped_model_ids.json\"\n",
    "\n",
    "with open(unmapped_model_ids_file, \"w\") as unmapped_file:\n",
    "    json.dump(list(unmapped_model_ids), unmapped_file, indent=4)\n",
    "\n",
    "print(f\"\\n{len(unmapped_model_ids)} valid results not mapped to a fragility model ID:\")\n",
    "for model_id in unmapped_model_ids:\n",
    "    print(model_id)"
   ]
  },
  {
   "cell_type": "code",
   "execution_count": null,
   "id": "7b178e1c",
   "metadata": {},
   "outputs": [],
   "source": []
  }
 ],
 "metadata": {
  "kernelspec": {
   "display_name": "Python 3 (ipykernel)",
   "language": "python",
   "name": "python3"
  },
  "language_info": {
   "codemirror_mode": {
    "name": "ipython",
    "version": 3
   },
   "file_extension": ".py",
   "mimetype": "text/x-python",
   "name": "python",
   "nbconvert_exporter": "python",
   "pygments_lexer": "ipython3",
   "version": "3.9.13"
  }
 },
 "nbformat": 4,
 "nbformat_minor": 5
}
